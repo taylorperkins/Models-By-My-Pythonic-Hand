{
 "cells": [
  {
   "cell_type": "code",
   "execution_count": 1,
   "metadata": {},
   "outputs": [],
   "source": [
    "import numpy as np\n",
    "import pandas as pd"
   ]
  },
  {
   "cell_type": "code",
   "execution_count": 2,
   "metadata": {},
   "outputs": [
    {
     "data": {
      "text/html": [
       "<div>\n",
       "<style scoped>\n",
       "    .dataframe tbody tr th:only-of-type {\n",
       "        vertical-align: middle;\n",
       "    }\n",
       "\n",
       "    .dataframe tbody tr th {\n",
       "        vertical-align: top;\n",
       "    }\n",
       "\n",
       "    .dataframe thead th {\n",
       "        text-align: right;\n",
       "    }\n",
       "</style>\n",
       "<table border=\"1\" class=\"dataframe\">\n",
       "  <thead>\n",
       "    <tr style=\"text-align: right;\">\n",
       "      <th></th>\n",
       "      <th># correct (x)</th>\n",
       "      <th>attitude (y)</th>\n",
       "    </tr>\n",
       "  </thead>\n",
       "  <tbody>\n",
       "    <tr>\n",
       "      <th>0</th>\n",
       "      <td>17</td>\n",
       "      <td>94</td>\n",
       "    </tr>\n",
       "    <tr>\n",
       "      <th>1</th>\n",
       "      <td>13</td>\n",
       "      <td>73</td>\n",
       "    </tr>\n",
       "    <tr>\n",
       "      <th>2</th>\n",
       "      <td>12</td>\n",
       "      <td>59</td>\n",
       "    </tr>\n",
       "    <tr>\n",
       "      <th>3</th>\n",
       "      <td>15</td>\n",
       "      <td>80</td>\n",
       "    </tr>\n",
       "    <tr>\n",
       "      <th>4</th>\n",
       "      <td>16</td>\n",
       "      <td>93</td>\n",
       "    </tr>\n",
       "  </tbody>\n",
       "</table>\n",
       "</div>"
      ],
      "text/plain": [
       "   # correct (x)  attitude (y)\n",
       "0             17            94\n",
       "1             13            73\n",
       "2             12            59\n",
       "3             15            80\n",
       "4             16            93"
      ]
     },
     "execution_count": 2,
     "metadata": {},
     "output_type": "execute_result"
    }
   ],
   "source": [
    "dataset = pd.DataFrame(\n",
    "    data={\n",
    "        \"# correct (x)\": [17, 13, 12, 15, 16, 14, 16, 16, 18, 19],\n",
    "        \"attitude (y)\": [94, 73, 59, 80, 93, 85, 66, 79, 77, 91]\n",
    "    }\n",
    ")\n",
    "\n",
    "dataset.head()"
   ]
  },
  {
   "cell_type": "markdown",
   "metadata": {},
   "source": [
    "---\n",
    "\n",
    "## Given the # correct answers for a test, predict for \"testing attitude\" using Linear Regression\n",
    "\n",
    "Dataset and algorithm from: https://www.youtube.com/watch?v=GhrxgbQnEEU\n",
    "\n",
    "Linear Regression Function: \n",
    "$y = a + bx$  \n",
    "\n",
    "Slope ($b$) of the Regression Line: \n",
    "$b = r\\frac{S_{y}}{S_{x}}$\n",
    "\n",
    "Y-Intercept ($a$) of the Regression Line:\n",
    "$a = \\bar{y} - b\\bar{x}$"
   ]
  },
  {
   "cell_type": "markdown",
   "metadata": {},
   "source": [
    "---\n",
    "\n",
    "## First, the slope!\n",
    "\n",
    "The slope is needed to calculate both the y-intercept and y. \n",
    "It would be best to calculate this first.\n",
    "\n",
    "Slope ($b$) of the Regression Line: \n",
    "$b = r\\frac{S_{y}}{S_{x}}$\n",
    "\n",
    "But, to calculate the slope we need a couple of other formulas. \n",
    "The _Pearson Correlation Coefficient ($r$)_ as well as the formula to calculate the standard deviation of both $X$ and $Y$."
   ]
  },
  {
   "cell_type": "markdown",
   "metadata": {},
   "source": [
    "---\n",
    "\n",
    "## So, Pearson's Correlation Coefficient Formula\n",
    "\n",
    "$r = \\frac {\\sum \\limits _{i} (x _{i} - \\bar{x})(y _{i} - \\bar{y})}{\\sqrt{\\sum \\limits _{i} (x _{i} - \\bar{x}) ^2}\\sqrt{\\sum \\limits _{i} (y _{i} - \\bar{y}) ^2}}$"
   ]
  },
  {
   "cell_type": "code",
   "execution_count": 3,
   "metadata": {},
   "outputs": [],
   "source": [
    "def pearsons_correlation_coef(\n",
    "    x: pd.Series, \n",
    "    y: pd.Series\n",
    "):\n",
    "    \n",
    "    x_bar, y_bar = x.mean(), y.mean()\n",
    "    \n",
    "    numerator = np.sum((x-x_bar)*(y-y_bar))\n",
    "    denominator = np.sqrt(np.sum((x-x_bar)**2))*np.sqrt(np.sum((y-y_bar)**2))\n",
    "    \n",
    "    return numerator / denominator"
   ]
  },
  {
   "cell_type": "code",
   "execution_count": 4,
   "metadata": {},
   "outputs": [
    {
     "data": {
      "text/plain": [
       "0.5960947613894623"
      ]
     },
     "execution_count": 4,
     "metadata": {},
     "output_type": "execute_result"
    }
   ],
   "source": [
    "pearsons_correlation_coef(\n",
    "    dataset[\"# correct (x)\"], \n",
    "    dataset[\"attitude (y)\"]\n",
    ")"
   ]
  },
  {
   "cell_type": "markdown",
   "metadata": {},
   "source": [
    "---\n",
    "\n",
    "## Standard Deviation Function\n",
    "\n",
    "$\\sigma = \\sqrt{\\frac{\\sum (x_{i}-\\mu)^2 }{N}}$"
   ]
  },
  {
   "cell_type": "code",
   "execution_count": 5,
   "metadata": {},
   "outputs": [],
   "source": [
    "def std(s: pd.Series):\n",
    "    return np.sqrt(np.sum((s-s.mean())**2) / (len(s)-1))"
   ]
  },
  {
   "cell_type": "code",
   "execution_count": 6,
   "metadata": {},
   "outputs": [
    {
     "data": {
      "text/plain": [
       "2.1705094128132942"
      ]
     },
     "execution_count": 6,
     "metadata": {},
     "output_type": "execute_result"
    }
   ],
   "source": [
    "std(dataset[\"# correct (x)\"])"
   ]
  },
  {
   "cell_type": "markdown",
   "metadata": {},
   "source": [
    "---\n",
    "\n",
    "## Slope Function\n",
    "\n",
    "$b = r\\frac{S_{y}}{S_{x}}$"
   ]
  },
  {
   "cell_type": "code",
   "execution_count": 7,
   "metadata": {},
   "outputs": [],
   "source": [
    "def slope(x, y):\n",
    "    r = pearsons_correlation_coef(x, y)\n",
    "    slope_ = r*(std(y)/std(x))\n",
    "    \n",
    "    return slope_"
   ]
  },
  {
   "cell_type": "code",
   "execution_count": 8,
   "metadata": {},
   "outputs": [
    {
     "data": {
      "text/plain": [
       "3.1792452830188673"
      ]
     },
     "execution_count": 8,
     "metadata": {},
     "output_type": "execute_result"
    }
   ],
   "source": [
    "slope(\n",
    "    dataset[\"# correct (x)\"], \n",
    "    dataset[\"attitude (y)\"]\n",
    ")"
   ]
  },
  {
   "cell_type": "markdown",
   "metadata": {},
   "source": [
    "---\n",
    "\n",
    "## Y-Intercept\n",
    "\n",
    "$a = \\bar{y} - b\\bar{x}$"
   ]
  },
  {
   "cell_type": "code",
   "execution_count": 9,
   "metadata": {},
   "outputs": [],
   "source": [
    "def y_intercept(x, y):\n",
    "    return y.mean() - (slope(x, y)*x.mean())"
   ]
  },
  {
   "cell_type": "code",
   "execution_count": 10,
   "metadata": {},
   "outputs": [
    {
     "data": {
      "text/plain": [
       "30.103773584905674"
      ]
     },
     "execution_count": 10,
     "metadata": {},
     "output_type": "execute_result"
    }
   ],
   "source": [
    "y_intercept(\n",
    "    dataset[\"# correct (x)\"], \n",
    "    dataset[\"attitude (y)\"]\n",
    ")"
   ]
  },
  {
   "cell_type": "markdown",
   "metadata": {},
   "source": [
    "---\n",
    "\n",
    "## Linear Regression Function!\n",
    "\n",
    "$y = a + bx$"
   ]
  },
  {
   "cell_type": "code",
   "execution_count": 11,
   "metadata": {},
   "outputs": [],
   "source": [
    "class LinearRegression:\n",
    "    \n",
    "    def __init__(self, y_intercept, slope):\n",
    "        self._y_intercept = y_intercept\n",
    "        self._slope = slope\n",
    "        \n",
    "    def predict(self, x):\n",
    "        return self._y_intercept + (self._slope * x)"
   ]
  },
  {
   "cell_type": "code",
   "execution_count": 12,
   "metadata": {},
   "outputs": [],
   "source": [
    "clf = LinearRegression(\n",
    "    y_intercept=y_intercept(\n",
    "        dataset[\"# correct (x)\"], \n",
    "        dataset[\"attitude (y)\"]\n",
    "    ),\n",
    "    slope=slope(\n",
    "        dataset[\"# correct (x)\"], \n",
    "        dataset[\"attitude (y)\"]\n",
    "    )\n",
    ")"
   ]
  },
  {
   "cell_type": "code",
   "execution_count": 13,
   "metadata": {},
   "outputs": [
    {
     "data": {
      "text/plain": [
       "74.61320754716982"
      ]
     },
     "execution_count": 13,
     "metadata": {},
     "output_type": "execute_result"
    }
   ],
   "source": [
    "clf.predict(14)"
   ]
  },
  {
   "cell_type": "markdown",
   "metadata": {},
   "source": [
    "---\n",
    "\n",
    "## Cleaned Up"
   ]
  },
  {
   "cell_type": "code",
   "execution_count": 14,
   "metadata": {},
   "outputs": [],
   "source": [
    "class Variable:\n",
    "    \n",
    "    def __init__(self, s: pd.Series, name):\n",
    "        self.data = s\n",
    "        self.name = name\n",
    "        \n",
    "        self._mu = None\n",
    "        self._std = None\n",
    "        self._size = None\n",
    "        \n",
    "    @property\n",
    "    def size(self):\n",
    "        if self._size is None:\n",
    "            print(f\"Calculating size for {self.name}..\")\n",
    "            self._size = len(self.data)\n",
    "        \n",
    "        return self._size\n",
    "        \n",
    "    @property\n",
    "    def mu(self):\n",
    "        if self._mu is None:\n",
    "            print(f\"Calculating mu for {self.name}..\")\n",
    "            self._mu = self.data.mean()\n",
    "        \n",
    "        return self._mu\n",
    "    \n",
    "    @property\n",
    "    def std(self):\n",
    "        if self._std is None:\n",
    "            print(f\"Calculating std for {self.name}..\")\n",
    "            self._std = self._calc_std()\n",
    "        \n",
    "        return self._std\n",
    "    \n",
    "    def _calc_std(self):\n",
    "        return np.sqrt(np.sum((self.data-self.mu)**2) / (self.size-1))\n",
    "    \n",
    "    \n",
    "def pearsons_correlation_coef(\n",
    "    x: Variable, \n",
    "    y: Variable\n",
    "):\n",
    "    numerator = np.sum((x-x.mu)*(y-y.mu))\n",
    "    denominator = np.sqrt(np.sum((x-x.mu)**2))*np.sqrt(np.sum((y-y.mu)**2))\n",
    "    \n",
    "    return numerator / denominator\n",
    "    \n",
    "    \n",
    "class SimpleLinearRegression:\n",
    "    \n",
    "    def __init__(self, x, y):\n",
    "        self._x = Variable(x, name=\"X\")\n",
    "        self._y = Variable(y, name=\"Y\")\n",
    "        \n",
    "        self._y_intercept = None\n",
    "        self._slope = None\n",
    "        \n",
    "    @property\n",
    "    def y_intercept(self):\n",
    "        if self._y_intercept is None:\n",
    "            print(\"Calculating y_intercept..\")\n",
    "            self._y_intercept = self._calc_y_intercept()\n",
    "            \n",
    "        return self._y_intercept\n",
    "    \n",
    "    @property\n",
    "    def slope(self):\n",
    "        if self._slope is None:\n",
    "            print(\"Calculating slope..\")\n",
    "            self._slope = self._calc_slope()\n",
    "            \n",
    "        return self._slope\n",
    "        \n",
    "    def predict(self, x):\n",
    "        return self.y_intercept + (self.slope * x)\n",
    "    \n",
    "    def _calc_y_intercept(self):\n",
    "        return self._y.mu - (self.slope*self._x.mu)\n",
    "    \n",
    "    def _calc_slope(self):\n",
    "        r = pearsons_correlation_coef(self._x, self._y)\n",
    "        return r*(self._y.std/self._x.std)\n",
    "    \n",
    "    \n",
    "def pearsons_correlation_coef(\n",
    "    x: Variable, \n",
    "    y: Variable\n",
    "):\n",
    "    numerator = np.sum((x.data-x.mu)*(y.data-y.mu))\n",
    "    denominator = np.sqrt(np.sum((x.data-x.mu)**2))*np.sqrt(np.sum((y.data-y.mu)**2))\n",
    "    \n",
    "    return numerator / denominator"
   ]
  },
  {
   "cell_type": "code",
   "execution_count": 15,
   "metadata": {},
   "outputs": [],
   "source": [
    "clf = SimpleLinearRegression(\n",
    "    x=dataset[\"# correct (x)\"],\n",
    "    y=dataset[\"attitude (y)\"]\n",
    ")"
   ]
  },
  {
   "cell_type": "code",
   "execution_count": 16,
   "metadata": {},
   "outputs": [
    {
     "name": "stdout",
     "output_type": "stream",
     "text": [
      "Calculating y_intercept..\n",
      "Calculating mu for Y..\n",
      "Calculating slope..\n",
      "Calculating mu for X..\n",
      "Calculating std for Y..\n",
      "Calculating size for Y..\n",
      "Calculating std for X..\n",
      "Calculating size for X..\n"
     ]
    },
    {
     "data": {
      "text/plain": [
       "74.61320754716982"
      ]
     },
     "execution_count": 16,
     "metadata": {},
     "output_type": "execute_result"
    }
   ],
   "source": [
    "clf.predict(14)"
   ]
  },
  {
   "cell_type": "code",
   "execution_count": 17,
   "metadata": {},
   "outputs": [
    {
     "data": {
      "text/plain": [
       "76.20283018867926"
      ]
     },
     "execution_count": 17,
     "metadata": {},
     "output_type": "execute_result"
    }
   ],
   "source": [
    "clf.predict(14.5)"
   ]
  },
  {
   "cell_type": "code",
   "execution_count": null,
   "metadata": {},
   "outputs": [],
   "source": []
  }
 ],
 "metadata": {
  "kernelspec": {
   "display_name": "Python 3",
   "language": "python",
   "name": "python3"
  },
  "language_info": {
   "codemirror_mode": {
    "name": "ipython",
    "version": 3
   },
   "file_extension": ".py",
   "mimetype": "text/x-python",
   "name": "python",
   "nbconvert_exporter": "python",
   "pygments_lexer": "ipython3",
   "version": "3.7.3"
  }
 },
 "nbformat": 4,
 "nbformat_minor": 4
}
